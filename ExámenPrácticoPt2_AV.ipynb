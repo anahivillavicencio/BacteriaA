{
  "nbformat": 4,
  "nbformat_minor": 0,
  "metadata": {
    "colab": {
      "provenance": [],
      "authorship_tag": "ABX9TyNy9Ukrmz8V1ux/DtfbIgQj",
      "include_colab_link": true
    },
    "kernelspec": {
      "name": "python3",
      "display_name": "Python 3"
    },
    "language_info": {
      "name": "python"
    }
  },
  "cells": [
    {
      "cell_type": "markdown",
      "metadata": {
        "id": "view-in-github",
        "colab_type": "text"
      },
      "source": [
        "<a href=\"https://colab.research.google.com/github/anahivillavicencio/BacteriaA/blob/main/Ex%C3%A1menPr%C3%A1cticoPt2_AV.ipynb\" target=\"_parent\"><img src=\"https://colab.research.google.com/assets/colab-badge.svg\" alt=\"Open In Colab\"/></a>"
      ]
    },
    {
      "cell_type": "code",
      "source": [
        "def calcular_gc(secuencia):\n",
        "    # Convertir la secuencia a mayúsculas para estandarizar\n",
        "    secuencia = secuencia.upper()\n",
        "\n",
        "    # Contar el número de G y C\n",
        "    gc_count = secuencia.count('G') + secuencia.count('C')\n",
        "\n",
        "    # Calcular el porcentaje\n",
        "    gc_porcentaje = (gc_count / len(secuencia)) * 100\n",
        "\n",
        "    return gc_porcentaje\n",
        "\n",
        "# Ejemplo de uso\n",
        "secuencia_adn = \"ATGCATGCATGCATGCATGC\"\n",
        "resultado = calcular_gc(secuencia_adn)\n",
        "print(f\"El porcentaje de GC en la secuencia es: {resultado:.2f}%\")"
      ],
      "metadata": {
        "colab": {
          "base_uri": "https://localhost:8080/"
        },
        "id": "XLr7Zd3u7YRw",
        "outputId": "fb1540a1-860c-4fbd-b8b9-81f03b7e3f60"
      },
      "execution_count": 5,
      "outputs": [
        {
          "output_type": "stream",
          "name": "stdout",
          "text": [
            "El porcentaje de GC en la secuencia es: 50.00%\n"
          ]
        }
      ]
    },
    {
      "cell_type": "code",
      "source": [
        "def buscar_motivo(secuencia, motivo):\n",
        "    # Convertir ambas a mayúsculas para estandarizar\n",
        "    secuencia = secuencia.upper()\n",
        "    motivo = motivo.upper()\n",
        "\n",
        "    # Buscar el motivo\n",
        "    posicion = secuencia.find(motivo)\n",
        "\n",
        "    if posicion != -1:\n",
        "        return f\"El motivo '{motivo}' se encuentra en la posición {posicion}\"\n",
        "    else:\n",
        "        return f\"El motivo '{motivo}' no se encuentra en la secuencia\"\n",
        "\n",
        "# Ejemplo de uso\n",
        "secuencia_adn = \"ATGCATGCATGCATGCATGC\"\n",
        "motivo_buscar = \"TGCA\"\n",
        "resultado = buscar_motivo(secuencia_adn, motivo_buscar)\n",
        "print(resultado)"
      ],
      "metadata": {
        "colab": {
          "base_uri": "https://localhost:8080/"
        },
        "id": "wQoB_xlp7je2",
        "outputId": "8680d81e-ced6-4903-fafb-6bb4398fa008"
      },
      "execution_count": 7,
      "outputs": [
        {
          "output_type": "stream",
          "name": "stdout",
          "text": [
            "El motivo 'TGCA' se encuentra en la posición 1\n"
          ]
        }
      ]
    }
  ]
}